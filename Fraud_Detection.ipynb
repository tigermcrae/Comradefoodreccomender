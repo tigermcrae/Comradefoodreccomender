{
  "nbformat": 4,
  "nbformat_minor": 0,
  "metadata": {
    "colab": {
      "provenance": [],
      "authorship_tag": "ABX9TyON9W0FA+mvD0za7wA9gWD0",
      "include_colab_link": true
    },
    "kernelspec": {
      "name": "python3",
      "display_name": "Python 3"
    },
    "language_info": {
      "name": "python"
    }
  },
  "cells": [
    {
      "cell_type": "markdown",
      "metadata": {
        "id": "view-in-github",
        "colab_type": "text"
      },
      "source": [
        "<a href=\"https://colab.research.google.com/github/tigermcrae/Fraud-Detection-in-Electricity-and-Gas/blob/main/Fraud_Detection.ipynb\" target=\"_parent\"><img src=\"https://colab.research.google.com/assets/colab-badge.svg\" alt=\"Open In Colab\"/></a>"
      ]
    },
    {
      "cell_type": "code",
      "execution_count": 40,
      "metadata": {
        "id": "fOaPPKPVI6g6"
      },
      "outputs": [],
      "source": [
        "from ast import increment_lineno\n",
        "import pandas as pd\n",
        "import numpy as np\n",
        "import seaborn as sns\n",
        "import matplotlib.pyplot as plt\n",
        "import warnings\n",
        "\n",
        "%matplotlib inline\n",
        "warnings.filterwarnings('ignore')"
      ]
    },
    {
      "cell_type": "code",
      "source": [],
      "metadata": {
        "id": "N_-2W-6YTP5W"
      },
      "execution_count": 40,
      "outputs": []
    },
    {
      "cell_type": "markdown",
      "source": [],
      "metadata": {
        "id": "vOCAtYtHTbRK"
      }
    },
    {
      "cell_type": "code",
      "source": [],
      "metadata": {
        "id": "vWF6rEdOTLuG"
      },
      "execution_count": 40,
      "outputs": []
    },
    {
      "cell_type": "code",
      "source": [
        "# Reading traininig data\n",
        "client_train = pd.read_csv('/content/client_train.csv')\n",
        "invoice_train = pd.read_csv('/content/invoice_train.csv')\n",
        "\n",
        "client_test = pd.read_csv('/content/client_test.csv')\n",
        "invoice_test = pd.read_csv('/content/invoice_test.csv')"
      ],
      "metadata": {
        "id": "xGKrrOCRKYu1"
      },
      "execution_count": 145,
      "outputs": []
    },
    {
      "cell_type": "code",
      "source": [
        "invoice_train.describe().transpose()"
      ],
      "metadata": {
        "id": "RIRv33IaMZ8a"
      },
      "execution_count": null,
      "outputs": []
    },
    {
      "cell_type": "code",
      "source": [
        "print(client_train.shape, invoice_train.shape)"
      ],
      "metadata": {
        "id": "K-0j3LNBbQXb"
      },
      "execution_count": null,
      "outputs": []
    },
    {
      "cell_type": "code",
      "source": [
        "print(client_train.columns, client_test.columns)"
      ],
      "metadata": {
        "id": "1V18WBrnbg4R"
      },
      "execution_count": null,
      "outputs": []
    },
    {
      "cell_type": "code",
      "source": [
        "client_train.describe()"
      ],
      "metadata": {
        "id": "o8xWfHLqijGr"
      },
      "execution_count": null,
      "outputs": []
    },
    {
      "cell_type": "code",
      "source": [],
      "metadata": {
        "id": "vVROtPdqcPY_"
      },
      "execution_count": 123,
      "outputs": []
    },
    {
      "cell_type": "code",
      "source": [
        "client_test.describe().transpose()"
      ],
      "metadata": {
        "id": "u0h1g5HfbrgR"
      },
      "execution_count": null,
      "outputs": []
    },
    {
      "cell_type": "code",
      "source": [
        "invoice_train.describe().transpose()"
      ],
      "metadata": {
        "id": "ZCCsOQA9cjOv"
      },
      "execution_count": null,
      "outputs": []
    },
    {
      "cell_type": "code",
      "source": [
        "client_train.head()"
      ],
      "metadata": {
        "id": "ASh-Z75Dc1cp"
      },
      "execution_count": null,
      "outputs": []
    },
    {
      "cell_type": "code",
      "source": [
        "client_train.tail()"
      ],
      "metadata": {
        "id": "BuVGEHBXiHMh"
      },
      "execution_count": null,
      "outputs": []
    },
    {
      "cell_type": "code",
      "source": [
        "invoice_train.head()"
      ],
      "metadata": {
        "id": "5lnriwC7dDse"
      },
      "execution_count": null,
      "outputs": []
    },
    {
      "cell_type": "code",
      "source": [
        "#Checking null values\n",
        "client_train.isnull().sum()"
      ],
      "metadata": {
        "id": "z_ScU_21dMqS"
      },
      "execution_count": null,
      "outputs": []
    },
    {
      "cell_type": "code",
      "source": [
        "client_train = client_train.dropna()"
      ],
      "metadata": {
        "id": "uL7eBTCCd89f"
      },
      "execution_count": 127,
      "outputs": []
    },
    {
      "cell_type": "code",
      "source": [
        "client_train.isnull().sum()"
      ],
      "metadata": {
        "id": "kobjCv5YcxsU"
      },
      "execution_count": null,
      "outputs": []
    },
    {
      "cell_type": "code",
      "source": [
        "invoice_train.isnull().sum()"
      ],
      "metadata": {
        "colab": {
          "base_uri": "https://localhost:8080/"
        },
        "id": "U2iHqKaMeeXJ",
        "outputId": "ea4afc1e-9100-4dc7-e0dc-f6392e424ae7"
      },
      "execution_count": 148,
      "outputs": [
        {
          "output_type": "execute_result",
          "data": {
            "text/plain": [
              "client_id               0\n",
              "invoice_date            0\n",
              "tarif_type              0\n",
              "counter_number          0\n",
              "counter_statue          0\n",
              "counter_code            0\n",
              "reading_remarque        0\n",
              "counter_coefficient     0\n",
              "consommation_level_1    0\n",
              "consommation_level_2    0\n",
              "consommation_level_3    0\n",
              "consommation_level_4    0\n",
              "old_index               0\n",
              "new_index               0\n",
              "months_number           0\n",
              "counter_type            0\n",
              "dtype: int64"
            ]
          },
          "metadata": {},
          "execution_count": 148
        }
      ]
    },
    {
      "cell_type": "code",
      "source": [
        "invoice_train = invoice_train.dropna"
      ],
      "metadata": {
        "id": "h5Vd_68celM1"
      },
      "execution_count": 136,
      "outputs": []
    },
    {
      "cell_type": "code",
      "source": [
        "client_train.duplicated().sum()"
      ],
      "metadata": {
        "colab": {
          "base_uri": "https://localhost:8080/"
        },
        "id": "IMkSwdQzjESx",
        "outputId": "ec2d02ca-47a6-43fc-f492-dcbb0239ed4d"
      },
      "execution_count": 143,
      "outputs": [
        {
          "output_type": "execute_result",
          "data": {
            "text/plain": [
              "0"
            ]
          },
          "metadata": {},
          "execution_count": 143
        }
      ]
    },
    {
      "cell_type": "code",
      "source": [
        "invoice_train.info()"
      ],
      "metadata": {
        "colab": {
          "base_uri": "https://localhost:8080/"
        },
        "id": "EHnv15cEjRhl",
        "outputId": "b11c9911-10b5-4fa5-d1cc-01c9a064a5b5"
      },
      "execution_count": 149,
      "outputs": [
        {
          "output_type": "stream",
          "name": "stdout",
          "text": [
            "<class 'pandas.core.frame.DataFrame'>\n",
            "RangeIndex: 4476749 entries, 0 to 4476748\n",
            "Data columns (total 16 columns):\n",
            " #   Column                Dtype \n",
            "---  ------                ----- \n",
            " 0   client_id             object\n",
            " 1   invoice_date          object\n",
            " 2   tarif_type            int64 \n",
            " 3   counter_number        int64 \n",
            " 4   counter_statue        object\n",
            " 5   counter_code          int64 \n",
            " 6   reading_remarque      int64 \n",
            " 7   counter_coefficient   int64 \n",
            " 8   consommation_level_1  int64 \n",
            " 9   consommation_level_2  int64 \n",
            " 10  consommation_level_3  int64 \n",
            " 11  consommation_level_4  int64 \n",
            " 12  old_index             int64 \n",
            " 13  new_index             int64 \n",
            " 14  months_number         int64 \n",
            " 15  counter_type          object\n",
            "dtypes: int64(12), object(4)\n",
            "memory usage: 546.5+ MB\n"
          ]
        }
      ]
    },
    {
      "cell_type": "code",
      "source": [
        "invoice_train.info()"
      ],
      "metadata": {
        "id": "dOz4pa3cjasd"
      },
      "execution_count": null,
      "outputs": []
    },
    {
      "cell_type": "code",
      "source": [
        "invoice_train.isnull().sum()"
      ],
      "metadata": {
        "id": "44ild2kMjilg"
      },
      "execution_count": null,
      "outputs": []
    },
    {
      "cell_type": "code",
      "source": [
        "invoice_train = invoice_train.dropna()"
      ],
      "metadata": {
        "id": "lp-yZ3SzkRao"
      },
      "execution_count": 62,
      "outputs": []
    },
    {
      "cell_type": "code",
      "source": [
        "invoice_train.isnull().sum()"
      ],
      "metadata": {
        "id": "3BKswI8AkW_r"
      },
      "execution_count": null,
      "outputs": []
    },
    {
      "cell_type": "markdown",
      "source": [
        "invoice_train.head()"
      ],
      "metadata": {
        "id": "wu_lhxrQhBdb"
      }
    },
    {
      "cell_type": "code",
      "source": [
        "client_train.isnull()"
      ],
      "metadata": {
        "id": "JH7wvYm4lNW0"
      },
      "execution_count": null,
      "outputs": []
    },
    {
      "cell_type": "code",
      "source": [
        "client_train = client_train.dropna()"
      ],
      "metadata": {
        "id": "tdL3FMWElSnL"
      },
      "execution_count": 65,
      "outputs": []
    },
    {
      "cell_type": "code",
      "source": [
        "client_train.isnull().sum()"
      ],
      "metadata": {
        "id": "_8VOyG8oldhd"
      },
      "execution_count": null,
      "outputs": []
    },
    {
      "cell_type": "code",
      "source": [
        "client_train.duplicated().sum()"
      ],
      "metadata": {
        "id": "q8pfIQPfligY",
        "colab": {
          "base_uri": "https://localhost:8080/"
        },
        "outputId": "685ca299-7bb6-4d92-9e75-7ac401c53b1b"
      },
      "execution_count": 67,
      "outputs": [
        {
          "output_type": "execute_result",
          "data": {
            "text/plain": [
              "0"
            ]
          },
          "metadata": {},
          "execution_count": 67
        }
      ]
    },
    {
      "cell_type": "code",
      "source": [
        "invoice_train.duplicated().sum()"
      ],
      "metadata": {
        "id": "eFNGX2A2l1jS",
        "colab": {
          "base_uri": "https://localhost:8080/"
        },
        "outputId": "ad6af028-ae25-4f18-ad82-90aa07e3c964"
      },
      "execution_count": 68,
      "outputs": [
        {
          "output_type": "execute_result",
          "data": {
            "text/plain": [
              "0"
            ]
          },
          "metadata": {},
          "execution_count": 68
        }
      ]
    },
    {
      "cell_type": "code",
      "source": [
        "sns.countplot(x='target', data=client_train)"
      ],
      "metadata": {
        "id": "WnJ5iTwdl9A3"
      },
      "execution_count": null,
      "outputs": []
    },
    {
      "cell_type": "code",
      "source": [
        "#heatmap corelations\n",
        "client_train.corr()"
      ],
      "metadata": {
        "id": "LGazjI9Tnpct"
      },
      "execution_count": null,
      "outputs": []
    },
    {
      "cell_type": "code",
      "source": [
        "sns.heatmap(client_train.corr(),annot=True)\n",
        "plt.title('Client Correlations')"
      ],
      "metadata": {
        "id": "Fy9ZX0lloXCg"
      },
      "execution_count": null,
      "outputs": []
    },
    {
      "cell_type": "code",
      "source": [
        "client_train.corr()['disrict'].plot(kind='bar')"
      ],
      "metadata": {
        "id": "yUKiBHuZpKVl"
      },
      "execution_count": null,
      "outputs": []
    },
    {
      "cell_type": "code",
      "source": [
        "plt.figure(figsize=(14,6))\n",
        "sns.heatmap(invoice_train.corr(),annot=True)\n",
        "plt.title('Client Correlations')"
      ],
      "metadata": {
        "id": "RY_tbkoWsYYn"
      },
      "execution_count": null,
      "outputs": []
    },
    {
      "cell_type": "code",
      "source": [
        "client_train.info()"
      ],
      "metadata": {
        "id": "IjzBBTDlvYpW",
        "colab": {
          "base_uri": "https://localhost:8080/"
        },
        "outputId": "3932e1ed-20da-49c6-8bd9-b09acf209751"
      },
      "execution_count": 74,
      "outputs": [
        {
          "output_type": "stream",
          "name": "stdout",
          "text": [
            "<class 'pandas.core.frame.DataFrame'>\n",
            "Int64Index: 96906 entries, 0 to 96905\n",
            "Data columns (total 6 columns):\n",
            " #   Column         Non-Null Count  Dtype  \n",
            "---  ------         --------------  -----  \n",
            " 0   disrict        96906 non-null  int64  \n",
            " 1   client_id      96906 non-null  object \n",
            " 2   client_catg    96906 non-null  float64\n",
            " 3   region         96906 non-null  float64\n",
            " 4   creation_date  96906 non-null  object \n",
            " 5   target         96906 non-null  float64\n",
            "dtypes: float64(3), int64(1), object(2)\n",
            "memory usage: 5.2+ MB\n"
          ]
        }
      ]
    },
    {
      "cell_type": "code",
      "source": [
        "client_train = client_train.drop('client_id', axis=1)"
      ],
      "metadata": {
        "id": "oq83S5CvxA03"
      },
      "execution_count": 75,
      "outputs": []
    },
    {
      "cell_type": "code",
      "source": [
        "client_train.info()"
      ],
      "metadata": {
        "id": "E0zNaUoEyYX4"
      },
      "execution_count": null,
      "outputs": []
    },
    {
      "cell_type": "code",
      "source": [
        "df = pd.concat([client_train, invoice_train],axis=1)"
      ],
      "metadata": {
        "id": "sZinR_bjycaW"
      },
      "execution_count": 150,
      "outputs": []
    },
    {
      "cell_type": "code",
      "source": [
        "df.head()"
      ],
      "metadata": {
        "id": "9QtqU_24z3a5"
      },
      "execution_count": null,
      "outputs": []
    },
    {
      "cell_type": "code",
      "source": [
        "df.info()"
      ],
      "metadata": {
        "id": "qrGctJXuu8mR"
      },
      "execution_count": null,
      "outputs": []
    },
    {
      "cell_type": "code",
      "source": [
        "df['months_number']"
      ],
      "metadata": {
        "id": "RjED6pvb0W_y"
      },
      "execution_count": null,
      "outputs": []
    },
    {
      "cell_type": "code",
      "source": [
        "#district with fradulent and non fradulent activities"
      ],
      "metadata": {
        "id": "a0yh258A00f6"
      },
      "execution_count": 81,
      "outputs": []
    },
    {
      "cell_type": "code",
      "source": [
        "sns.countplot(x='disrict', data=df, hue='target')"
      ],
      "metadata": {
        "id": "ASGyHUO7t0xI"
      },
      "execution_count": null,
      "outputs": []
    },
    {
      "cell_type": "code",
      "source": [],
      "metadata": {
        "id": "6m2pcDVI4ENH"
      },
      "execution_count": 82,
      "outputs": []
    },
    {
      "cell_type": "code",
      "source": [
        "df['reading_remarque'].value_counts()"
      ],
      "metadata": {
        "id": "kJqr3bOmdb4w"
      },
      "execution_count": null,
      "outputs": []
    },
    {
      "cell_type": "code",
      "source": [
        "fig, axes = plt.subplots(1, 4, figsize=(18,6))\n",
        "color = sns.color_palette('rocket_r', as_cmap=True)\n",
        "#Plot for level 1\n",
        "sns.histplot(x='reading_remarque', y='consommation_level_1',data=df, hue='target',ax=axes[0])\n",
        "axes[0].set_title('Consumation level 1')\n",
        "\n",
        "#Plot for level 2\n",
        "sns.histplot(x='reading_remarque', y='consommation_level_2',data=df, hue='target',ax=axes[1])\n",
        "axes[1].set_title('Consumation level 2')\n",
        "\n",
        "#Plot for level 3\n",
        "sns.histplot(x='reading_remarque', y='consommation_level_3',data=df, hue='target',ax=axes[2])\n",
        "axes[2].set_title('Consumation level 3')\n",
        "\n",
        "#Plot for level 4\n",
        "sns.histplot(x='reading_remarque', y='consommation_level_4',data=df, hue='target',ax=axes[3])\n",
        "axes[3].set_title('Consumation level 4')"
      ],
      "metadata": {
        "id": "QGbvusILrzXX"
      },
      "execution_count": null,
      "outputs": []
    },
    {
      "cell_type": "code",
      "source": [
        "df['consommation_level_1'].value_counts()"
      ],
      "metadata": {
        "id": "pM5CfaLMtv7L"
      },
      "execution_count": null,
      "outputs": []
    },
    {
      "cell_type": "code",
      "source": [
        "df['creation_date'] = pd.to_datetime(df['creation_date'])\n",
        "df['invoice_date'] = pd.to_datetime(df['invoice_date'])"
      ],
      "metadata": {
        "id": "cEWht7HJ1hD4"
      },
      "execution_count": 99,
      "outputs": []
    },
    {
      "cell_type": "code",
      "source": [
        "df.info"
      ],
      "metadata": {
        "id": "PkbdQno76ifj"
      },
      "execution_count": null,
      "outputs": []
    },
    {
      "cell_type": "code",
      "source": [
        "df.isnull().sum()"
      ],
      "metadata": {
        "id": "uIxfK7fA6mmD"
      },
      "execution_count": null,
      "outputs": []
    },
    {
      "cell_type": "code",
      "source": [
        "df = df.dropna()"
      ],
      "metadata": {
        "id": "f0sSIj_o-Gqb"
      },
      "execution_count": 154,
      "outputs": []
    },
    {
      "cell_type": "code",
      "source": [
        "df.isnull().sum()"
      ],
      "metadata": {
        "id": "lz4mqL1r-Ox0"
      },
      "execution_count": null,
      "outputs": []
    },
    {
      "cell_type": "code",
      "source": [
        "df.head"
      ],
      "metadata": {
        "id": "KqsHVzWo-WEF"
      },
      "execution_count": null,
      "outputs": []
    },
    {
      "cell_type": "code",
      "source": [
        "df['months_number'].value_counts()"
      ],
      "metadata": {
        "colab": {
          "base_uri": "https://localhost:8080/"
        },
        "id": "EDz3Fsp7-ydP",
        "outputId": "cbb201e7-5b89-4bf5-8610-d0c435c3aa00"
      },
      "execution_count": 158,
      "outputs": [
        {
          "output_type": "execute_result",
          "data": {
            "text/plain": [
              "4        80566\n",
              "8         5852\n",
              "2         5711\n",
              "1         1897\n",
              "12        1100\n",
              "         ...  \n",
              "29352        1\n",
              "41454        1\n",
              "41879        1\n",
              "35985        1\n",
              "44           1\n",
              "Name: months_number, Length: 169, dtype: int64"
            ]
          },
          "metadata": {},
          "execution_count": 158
        }
      ]
    },
    {
      "cell_type": "code",
      "source": [
        "#Changing date object to datetime object\n",
        "df['invoice_date'] = pd.to_datetime(df['invoice_date'])"
      ],
      "metadata": {
        "id": "ES_8CN-Z_R7H"
      },
      "execution_count": 159,
      "outputs": []
    },
    {
      "cell_type": "code",
      "source": [
        "df = df.drop('months_number', axis = 1)"
      ],
      "metadata": {
        "id": "h-EO3E93LMkZ"
      },
      "execution_count": 160,
      "outputs": []
    },
    {
      "cell_type": "code",
      "source": [
        "df['invoice_month'] = df['invoice_date'].dt.month\n",
        "df['invoice_year'] = df['invoice_date'].dt.year"
      ],
      "metadata": {
        "id": "-iICxLWfLWy5"
      },
      "execution_count": 161,
      "outputs": []
    },
    {
      "cell_type": "code",
      "source": [
        "df = df.drop('creation_date', axis = 1)"
      ],
      "metadata": {
        "id": "UR_Aohb4MEHI"
      },
      "execution_count": 165,
      "outputs": []
    },
    {
      "cell_type": "code",
      "source": [
        "df['invoice_year'].value_counts()"
      ],
      "metadata": {
        "id": "39m82s_QMQOg"
      },
      "execution_count": null,
      "outputs": []
    },
    {
      "cell_type": "code",
      "source": [
        "#Comparing fradulent activities over the year\n",
        "sns.histplot(x = 'client_catg', y = 'cou', data = df, hue = 'counter_statue')"
      ],
      "metadata": {
        "id": "_mupneJDMsJo"
      },
      "execution_count": null,
      "outputs": []
    },
    {
      "cell_type": "code",
      "source": [
        "import pycaret"
      ],
      "metadata": {
        "id": "9DbQSebOOBiY"
      },
      "execution_count": 199,
      "outputs": []
    },
    {
      "cell_type": "code",
      "source": [
        "!pip install pycaret"
      ],
      "metadata": {
        "id": "XyqfOcF7T7jG"
      },
      "execution_count": null,
      "outputs": []
    },
    {
      "cell_type": "code",
      "source": [
        "import pycaret"
      ],
      "metadata": {
        "id": "mFNVkAXxUDiT"
      },
      "execution_count": 178,
      "outputs": []
    },
    {
      "cell_type": "code",
      "source": [
        "from pycaret.regression import *"
      ],
      "metadata": {
        "id": "OoekyrVbUbeB"
      },
      "execution_count": 202,
      "outputs": []
    },
    {
      "cell_type": "code",
      "source": [
        "from pycaret.datasets import get_data"
      ],
      "metadata": {
        "id": "LTPZyO3FZEDd"
      },
      "execution_count": 204,
      "outputs": []
    },
    {
      "cell_type": "code",
      "source": [
        "data = get_data('target')"
      ],
      "metadata": {
        "colab": {
          "base_uri": "https://localhost:8080/",
          "height": 332
        },
        "id": "M6edVhnxZUzB",
        "outputId": "237d5580-4c46-4564-a6e0-a9017455c4f9"
      },
      "execution_count": 206,
      "outputs": [
        {
          "output_type": "error",
          "ename": "ValueError",
          "evalue": "ignored",
          "traceback": [
            "\u001b[0;31m---------------------------------------------------------------------------\u001b[0m",
            "\u001b[0;31mValueError\u001b[0m                                Traceback (most recent call last)",
            "\u001b[0;32m<ipython-input-206-11534646c439>\u001b[0m in \u001b[0;36m<cell line: 1>\u001b[0;34m()\u001b[0m\n\u001b[0;32m----> 1\u001b[0;31m \u001b[0mdata\u001b[0m \u001b[0;34m=\u001b[0m \u001b[0mget_data\u001b[0m\u001b[0;34m(\u001b[0m\u001b[0;34m'target'\u001b[0m\u001b[0;34m)\u001b[0m\u001b[0;34m\u001b[0m\u001b[0;34m\u001b[0m\u001b[0m\n\u001b[0m",
            "\u001b[0;32m/usr/local/lib/python3.10/dist-packages/pycaret/datasets.py\u001b[0m in \u001b[0;36mget_data\u001b[0;34m(dataset, folder, save_copy, profile, verbose, address)\u001b[0m\n\u001b[1;32m    130\u001b[0m             \u001b[0mdata\u001b[0m \u001b[0;34m=\u001b[0m \u001b[0mpd\u001b[0m\u001b[0;34m.\u001b[0m\u001b[0mconcat\u001b[0m\u001b[0;34m(\u001b[0m\u001b[0;34m[\u001b[0m\u001b[0my\u001b[0m\u001b[0;34m,\u001b[0m \u001b[0mX\u001b[0m\u001b[0;34m]\u001b[0m\u001b[0;34m,\u001b[0m \u001b[0maxis\u001b[0m\u001b[0;34m=\u001b[0m\u001b[0;36m1\u001b[0m\u001b[0;34m)\u001b[0m\u001b[0;34m\u001b[0m\u001b[0;34m\u001b[0m\u001b[0m\n\u001b[1;32m    131\u001b[0m     \u001b[0;32melse\u001b[0m\u001b[0;34m:\u001b[0m\u001b[0;34m\u001b[0m\u001b[0;34m\u001b[0m\u001b[0m\n\u001b[0;32m--> 132\u001b[0;31m         \u001b[0;32mraise\u001b[0m \u001b[0mValueError\u001b[0m\u001b[0;34m(\u001b[0m\u001b[0;34m\"Data could not be read. Please check your inputs...\"\u001b[0m\u001b[0;34m)\u001b[0m\u001b[0;34m\u001b[0m\u001b[0;34m\u001b[0m\u001b[0m\n\u001b[0m\u001b[1;32m    133\u001b[0m \u001b[0;34m\u001b[0m\u001b[0m\n\u001b[1;32m    134\u001b[0m     \u001b[0mdata\u001b[0m \u001b[0;34m=\u001b[0m \u001b[0mdata\u001b[0m\u001b[0;34m.\u001b[0m\u001b[0minfer_objects\u001b[0m\u001b[0;34m(\u001b[0m\u001b[0;34m)\u001b[0m\u001b[0;34m\u001b[0m\u001b[0;34m\u001b[0m\u001b[0m\n",
            "\u001b[0;31mValueError\u001b[0m: Data could not be read. Please check your inputs..."
          ]
        }
      ]
    },
    {
      "cell_type": "code",
      "source": [],
      "metadata": {
        "id": "Sv0niXvfZ2cw"
      },
      "execution_count": null,
      "outputs": []
    }
  ]
}